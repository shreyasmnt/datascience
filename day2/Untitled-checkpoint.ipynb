import pandas as pd
import numpy as np
engine='python'
datam=pd.read_table('K_meansHW_TomMitchell_data1.csv',sep='::',names=['c1','c2')
datam
